{
  "nbformat": 4,
  "nbformat_minor": 0,
  "metadata": {
    "colab": {
      "provenance": [],
      "authorship_tag": "ABX9TyNHheMgG3GFWqQ2Pi3KcSZ2",
      "include_colab_link": true
    },
    "kernelspec": {
      "name": "python3",
      "display_name": "Python 3"
    },
    "language_info": {
      "name": "python"
    }
  },
  "cells": [
    {
      "cell_type": "markdown",
      "metadata": {
        "id": "view-in-github",
        "colab_type": "text"
      },
      "source": [
        "<a href=\"https://colab.research.google.com/github/FakhriFaishalRochdiana/SDG-16---Crime-Rate/blob/main/Kelompok_4_Visualisasi_Data.ipynb\" target=\"_parent\"><img src=\"https://colab.research.google.com/assets/colab-badge.svg\" alt=\"Open In Colab\"/></a>"
      ]
    },
    {
      "cell_type": "markdown",
      "source": [
        "# Peace, Justice, and Strong Institution\n",
        "Ketua Proyek : Fakhri Faishal Rochdiana - 1197050040\n",
        "Anggota : \n",
        "\n",
        "\n",
        "*   Aziz Nuzul Praramadhana - 1197050024\n",
        "*   Laela Chintia Alviani - 1197050060\n",
        "*   Nisairrizqy Nabilah Faizah - 1197050096\n",
        "*   Hanif Royyan Ramadhan - 1197050046\n",
        "\n",
        "# Business Understanding\n",
        "# A. Objektif Bisnis\n",
        "\n",
        "*   Latar Belakang Masalah\n",
        ">Kedamaian merupakan sebuah hal yang seringkali dikejar dalam sebuah komunitas atau negara. Kedamaian ini dapat dicapai melalui berbagai macam cara, dan telah menjadi salah satu tujuan yang terdapat pada sebuah rencana bernama *Sustainable Development Goals* atau biasa disingkat menjadi SDGs. Kedamaian merupakan salah satu tujuan yang diincar pada program ini, spesifiknya terdapat pada tujuan ke 16, yaitu *Peace, Justice, and Strong Institution*. Salah satu hal yang mempengaruhi tingkat kedamaian pada sebuah negara adalah tingkat kejahatan yang terjadi pada negara tersebut. Kejahatan dapat didorong oleh berbagai macam hal, salah satunya karena tidak memiliki pekerjaan. \n",
        "United States of America(USA), atau biasa disingkat menjadi United States(US), adalah sebuah negara adidaya yang memiliki angkata militer yang kuat dan memiliki ekonomi yang kuat. Meskipun begitu, negara ini pun memiliki permasalahan seperti kejahatan yang kerap terjadi sepanjang tahun. Untuk dapat mengatasi permasalahan ini, pertama kita perlu untuk mencari penyebab dan hal yang berhubungan yang menyebabkan kejahatan kerap terjadi sebelum membuat sebuah solusi.\n",
        "\n",
        "*   Identifikasi Masalah\n",
        "\n",
        ">*   Bagaimana prediksi tingkat kejahatan pada tiap state di USA pada tahun berikutnya?\n",
        ">*   Bagaimana hubungan antara tingkat kejahatan dengan tingkat pengangguran di USA?\n",
        "\n",
        "\n",
        "*   Metode/Pendekatan Penyelesaian Masalah\n",
        "\n",
        ">Metode yang akan digunakan pada mini riset ini adalah regresi linier sederhana untuk memprediksi tingkat kejahatan pada tahun berikutnya berdasarkan jumlah pengangguran.\n",
        "\n",
        "# B. Tujuan Teknis dan Kriteria Kesuksesan\n",
        "\n",
        "*   Adapun Tujuan dari riset ini adalah :\n",
        ">Dapat memberikan hasil prediksi tingkat kejahatan pada tiap state di USA pada tahun berikutnya berdasarkan tingkat pengangguran.\n",
        "*   Kriteria Kesuksesan \n",
        ">Mampu membuktikan hubungan antara tingkat kejahatan dengan tingkat pengangguran\n",
        "\n",
        "# C. Timelime Mini Riset\n",
        "\n",
        "*   9-16 November 2022 - Fiksasi Tema dan Business Understanding\n",
        "*   17-23 November 2022 - Data Understanding\n",
        "*   24-30 November 2022 - Data Preparation\n",
        "*   1-7 Desember 2022 - Modeling\n",
        "*   8-14 Desember 2022 - Evaluasi Modeling\n",
        "*   15-21 Desember 2022 - Penyelesaian Laporan\n",
        "\n",
        "\n",
        "\n",
        "\n",
        "\n",
        "\n",
        "\n"
      ],
      "metadata": {
        "id": "sCXsgZQJutMY"
      }
    },
    {
      "cell_type": "code",
      "execution_count": null,
      "metadata": {
        "id": "MotUxGVPupHe"
      },
      "outputs": [],
      "source": []
    }
  ]
}